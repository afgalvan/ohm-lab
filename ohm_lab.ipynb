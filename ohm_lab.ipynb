{
 "cells": [
  {
   "cell_type": "markdown",
   "source": [
    "<h1 align=\"center\">\r\n",
    "    PRACTICA EXPERIMENTAL #2\r\n",
    "    </br>\r\n",
    "    LEY DE COULOMB\r\n",
    "</h1>\r\n",
    "\r\n",
    "| IDENTIFICACIÓN | |\r\n",
    "| :- | :- |\r\n",
    "| Nombre de la asignatura | Electromagnetismo |\r\n",
    "| Programa Académico | Ingeniería de Sistemas |\r\n",
    "| Docente | Dr. Carlos Eduardo Martinez Nuñez |\r\n",
    "| Nombre del Estudiante | Andrés Felipe Galván |\r\n",
    "\r\n",
    "---\r\n",
    "\r\n",
    "## OBJETIVO GENERAL\r\n",
    "\r\n",
    "Comprobar la ley de Ohm para un circuito simple (fuente de voltaje y resistencia) y para circuitos con resistencias en serie y en paralelo.\r\n",
    "\r\n",
    "---\r\n",
    "\r\n",
    "## OBJETIVOS ESPECÍFICOS\r\n",
    "\r\n",
    "- Familiarizarse con elementos electrónicos sencillos.\r\n",
    "- Desarrollar habilidades en la construcción decircuitos sencillos.\r\n",
    "- Identificar la forma estándar para dibujar esquemas electrónicos.\r\n",
    "- Identificar los diferentes tipos de configuraciones de circuitos.\r\n",
    "- Comprobar la ley de Ohm."
   ],
   "metadata": {}
  },
  {
   "cell_type": "markdown",
   "source": [
    "# Procedimiento"
   ],
   "metadata": {}
  },
  {
   "cell_type": "markdown",
   "source": [
    "## Instalar dependencias"
   ],
   "metadata": {}
  },
  {
   "cell_type": "code",
   "execution_count": 1,
   "source": [
    "# from sys import executable\r\n",
    "\r\n",
    "# !{executable} -m pip install pandas\r\n",
    "# !{executable} -m pip install matplotlib\r\n",
    "# !{executable} -m pip install openpyxl\r\n",
    "# !{executable} -m pip install numpy"
   ],
   "outputs": [],
   "metadata": {}
  },
  {
   "cell_type": "markdown",
   "source": [
    "## Configuración"
   ],
   "metadata": {}
  },
  {
   "cell_type": "code",
   "execution_count": 2,
   "source": [
    "from matplotlib.pyplot import style\r\n",
    "\r\n",
    "style.use(\"seaborn-whitegrid\")"
   ],
   "outputs": [],
   "metadata": {}
  },
  {
   "cell_type": "markdown",
   "source": [
    "## Experiencia #1.\r\n",
    "\r\n",
    "Datos de voltaje vs corriente de un cable conductor con una resistividad dada."
   ],
   "metadata": {}
  },
  {
   "cell_type": "markdown",
   "source": [
    "### Registro de datos"
   ],
   "metadata": {}
  },
  {
   "cell_type": "code",
   "execution_count": 3,
   "source": [
    "from utils import ConfiguracionRegistro, registrar_corrientes\r\n",
    "\r\n",
    "configuracion1 = ConfiguracionRegistro(voltaje_inicial=3.0, escala=3.0)\r\n",
    "\r\n",
    "voltaje_corriente1 = registrar_corrientes([0.54, 1.08, 1.61, 2.15, 2.69, 3.23, 3.76, 4.30, 4.84, 5.38], configuracion1)\r\n",
    "voltaje_corriente1"
   ],
   "outputs": [
    {
     "output_type": "execute_result",
     "data": {
      "text/html": [
       "<div>\n",
       "<style scoped>\n",
       "    .dataframe tbody tr th:only-of-type {\n",
       "        vertical-align: middle;\n",
       "    }\n",
       "\n",
       "    .dataframe tbody tr th {\n",
       "        vertical-align: top;\n",
       "    }\n",
       "\n",
       "    .dataframe thead th {\n",
       "        text-align: right;\n",
       "    }\n",
       "</style>\n",
       "<table border=\"1\" class=\"dataframe\">\n",
       "  <thead>\n",
       "    <tr style=\"text-align: right;\">\n",
       "      <th>Medidas</th>\n",
       "      <th>I (A)</th>\n",
       "      <th>V (volts)</th>\n",
       "    </tr>\n",
       "  </thead>\n",
       "  <tbody>\n",
       "    <tr>\n",
       "      <th>1</th>\n",
       "      <td>0.54</td>\n",
       "      <td>3.0</td>\n",
       "    </tr>\n",
       "    <tr>\n",
       "      <th>2</th>\n",
       "      <td>1.08</td>\n",
       "      <td>6.0</td>\n",
       "    </tr>\n",
       "    <tr>\n",
       "      <th>3</th>\n",
       "      <td>1.61</td>\n",
       "      <td>9.0</td>\n",
       "    </tr>\n",
       "    <tr>\n",
       "      <th>4</th>\n",
       "      <td>2.15</td>\n",
       "      <td>12.0</td>\n",
       "    </tr>\n",
       "    <tr>\n",
       "      <th>5</th>\n",
       "      <td>2.69</td>\n",
       "      <td>15.0</td>\n",
       "    </tr>\n",
       "    <tr>\n",
       "      <th>6</th>\n",
       "      <td>3.23</td>\n",
       "      <td>18.0</td>\n",
       "    </tr>\n",
       "    <tr>\n",
       "      <th>7</th>\n",
       "      <td>3.76</td>\n",
       "      <td>21.0</td>\n",
       "    </tr>\n",
       "    <tr>\n",
       "      <th>8</th>\n",
       "      <td>4.30</td>\n",
       "      <td>24.0</td>\n",
       "    </tr>\n",
       "    <tr>\n",
       "      <th>9</th>\n",
       "      <td>4.84</td>\n",
       "      <td>27.0</td>\n",
       "    </tr>\n",
       "    <tr>\n",
       "      <th>10</th>\n",
       "      <td>5.38</td>\n",
       "      <td>30.0</td>\n",
       "    </tr>\n",
       "  </tbody>\n",
       "</table>\n",
       "</div>"
      ],
      "text/plain": [
       "Medidas  I (A)  V (volts)\n",
       "1         0.54        3.0\n",
       "2         1.08        6.0\n",
       "3         1.61        9.0\n",
       "4         2.15       12.0\n",
       "5         2.69       15.0\n",
       "6         3.23       18.0\n",
       "7         3.76       21.0\n",
       "8         4.30       24.0\n",
       "9         4.84       27.0\n",
       "10        5.38       30.0"
      ]
     },
     "metadata": {},
     "execution_count": 3
    }
   ],
   "metadata": {}
  },
  {
   "cell_type": "markdown",
   "source": [
    "### Grafica"
   ],
   "metadata": {}
  },
  {
   "cell_type": "code",
   "execution_count": 16,
   "source": [
    "from utils import graficar\r\n",
    "\r\n",
    "graficar(\"I1 vs V1\", voltaje_corriente1)"
   ],
   "outputs": [
    {
     "output_type": "display_data",
     "data": {
      "image/png": "[encoded data removed]",
      "text/plain": [
       "<Figure size 700x500 with 1 Axes>"
      ]
     },
     "metadata": {}
    }
   ],
   "metadata": {}
  },
  {
   "cell_type": "markdown",
   "source": [
    "### Resultado"
   ],
   "metadata": {}
  },
  {
   "cell_type": "code",
   "execution_count": 5,
   "source": [
    "from utils import calcular_resistencia, error_porcentual\r\n",
    "\r\n",
    "experimental1, aceptada1 = calcular_resistencia(voltaje_corriente1)\r\n",
    "print(f\"Experimental: {experimental1}\\nAceptada: {aceptada1}\")\r\n",
    "error_porcentual(experimental1, aceptada1)"
   ],
   "outputs": [
    {
     "output_type": "stream",
     "name": "stdout",
     "text": [
      "Experimental: 5.580591\n",
      "Aceptada: 5.5762081784386615\n"
     ]
    },
    {
     "output_type": "execute_result",
     "data": {
      "text/plain": [
       "'0.07853687%'"
      ]
     },
     "metadata": {},
     "execution_count": 5
    }
   ],
   "metadata": {}
  },
  {
   "cell_type": "markdown",
   "source": [
    "## Experiencia #2\r\n",
    "\r\n",
    "Datos de voltaje vs corriente de un circuito simple de una fuente de poder y una resistencia."
   ],
   "metadata": {}
  },
  {
   "cell_type": "code",
   "execution_count": 6,
   "source": [
    "configuracion2 = ConfiguracionRegistro(voltaje_inicial=2.0, escala=2.0)\r\n",
    "\r\n",
    "resistencia = 5.0 # ohms\r\n",
    "voltaje_corriente2 = registrar_corrientes([0.40, 0.80, 1.20, 1.60, 2.00, 2.40, 2.80, 3.20, 3.60, 4.00], configuracion2)\r\n",
    "voltaje_corriente2"
   ],
   "outputs": [
    {
     "output_type": "execute_result",
     "data": {
      "text/html": [
       "<div>\n",
       "<style scoped>\n",
       "    .dataframe tbody tr th:only-of-type {\n",
       "        vertical-align: middle;\n",
       "    }\n",
       "\n",
       "    .dataframe tbody tr th {\n",
       "        vertical-align: top;\n",
       "    }\n",
       "\n",
       "    .dataframe thead th {\n",
       "        text-align: right;\n",
       "    }\n",
       "</style>\n",
       "<table border=\"1\" class=\"dataframe\">\n",
       "  <thead>\n",
       "    <tr style=\"text-align: right;\">\n",
       "      <th>Medidas</th>\n",
       "      <th>I (A)</th>\n",
       "      <th>V (volts)</th>\n",
       "    </tr>\n",
       "  </thead>\n",
       "  <tbody>\n",
       "    <tr>\n",
       "      <th>1</th>\n",
       "      <td>0.4</td>\n",
       "      <td>2.0</td>\n",
       "    </tr>\n",
       "    <tr>\n",
       "      <th>2</th>\n",
       "      <td>0.8</td>\n",
       "      <td>4.0</td>\n",
       "    </tr>\n",
       "    <tr>\n",
       "      <th>3</th>\n",
       "      <td>1.2</td>\n",
       "      <td>6.0</td>\n",
       "    </tr>\n",
       "    <tr>\n",
       "      <th>4</th>\n",
       "      <td>1.6</td>\n",
       "      <td>8.0</td>\n",
       "    </tr>\n",
       "    <tr>\n",
       "      <th>5</th>\n",
       "      <td>2.0</td>\n",
       "      <td>10.0</td>\n",
       "    </tr>\n",
       "    <tr>\n",
       "      <th>6</th>\n",
       "      <td>2.4</td>\n",
       "      <td>12.0</td>\n",
       "    </tr>\n",
       "    <tr>\n",
       "      <th>7</th>\n",
       "      <td>2.8</td>\n",
       "      <td>14.0</td>\n",
       "    </tr>\n",
       "    <tr>\n",
       "      <th>8</th>\n",
       "      <td>3.2</td>\n",
       "      <td>16.0</td>\n",
       "    </tr>\n",
       "    <tr>\n",
       "      <th>9</th>\n",
       "      <td>3.6</td>\n",
       "      <td>18.0</td>\n",
       "    </tr>\n",
       "    <tr>\n",
       "      <th>10</th>\n",
       "      <td>4.0</td>\n",
       "      <td>20.0</td>\n",
       "    </tr>\n",
       "  </tbody>\n",
       "</table>\n",
       "</div>"
      ],
      "text/plain": [
       "Medidas  I (A)  V (volts)\n",
       "1          0.4        2.0\n",
       "2          0.8        4.0\n",
       "3          1.2        6.0\n",
       "4          1.6        8.0\n",
       "5          2.0       10.0\n",
       "6          2.4       12.0\n",
       "7          2.8       14.0\n",
       "8          3.2       16.0\n",
       "9          3.6       18.0\n",
       "10         4.0       20.0"
      ]
     },
     "metadata": {},
     "execution_count": 6
    }
   ],
   "metadata": {}
  },
  {
   "cell_type": "markdown",
   "source": [
    "### Grafica"
   ],
   "metadata": {}
  },
  {
   "cell_type": "code",
   "execution_count": 7,
   "source": [
    "graficar(\"I2  vs  V2\", voltaje_corriente2, color=\"#36D254\")"
   ],
   "outputs": [
    {
     "output_type": "display_data",
     "data": {
      "image/png": "[encoded data removed]",
      "text/plain": [
       "<Figure size 700x500 with 1 Axes>"
      ]
     },
     "metadata": {}
    }
   ],
   "metadata": {}
  },
  {
   "cell_type": "markdown",
   "source": [
    "### Resultado"
   ],
   "metadata": {}
  },
  {
   "cell_type": "code",
   "execution_count": 8,
   "source": [
    "experimental2, aceptada2 = calcular_resistencia(voltaje_corriente2)\r\n",
    "\r\n",
    "print(f\"Experimental: {experimental2}\\nAceptada: {aceptada2}\")\r\n",
    "error_porcentual(experimental2, aceptada2)"
   ],
   "outputs": [
    {
     "output_type": "stream",
     "name": "stdout",
     "text": [
      "Experimental: 4.999999\n",
      "Aceptada: 5.0\n"
     ]
    },
    {
     "output_type": "execute_result",
     "data": {
      "text/plain": [
       "'0.00002000%'"
      ]
     },
     "metadata": {},
     "execution_count": 8
    }
   ],
   "metadata": {}
  },
  {
   "cell_type": "markdown",
   "source": [
    "## Experiencia #3\r\n",
    "\r\n",
    "Datos de voltaje vs corriente de un circuito simple de una fuente de poder y dos resistencias en serie. "
   ],
   "metadata": {}
  },
  {
   "cell_type": "code",
   "execution_count": 9,
   "source": [
    "configuracion3 = ConfiguracionRegistro(voltaje_inicial=1.0, escala=1.0)\r\n",
    "\r\n",
    "resistencia1 = 5.0 # ohms\r\n",
    "resistencia2 = 5.0 # ohms\r\n",
    "voltaje_corriente3 = registrar_corrientes([0.10, 0.20, 0.30, 0.40, 0.50, 0.60, 0.70, 0.80, 0.90, 1.00], configuracion3)\r\n",
    "voltaje_corriente3"
   ],
   "outputs": [
    {
     "output_type": "execute_result",
     "data": {
      "text/html": [
       "<div>\n",
       "<style scoped>\n",
       "    .dataframe tbody tr th:only-of-type {\n",
       "        vertical-align: middle;\n",
       "    }\n",
       "\n",
       "    .dataframe tbody tr th {\n",
       "        vertical-align: top;\n",
       "    }\n",
       "\n",
       "    .dataframe thead th {\n",
       "        text-align: right;\n",
       "    }\n",
       "</style>\n",
       "<table border=\"1\" class=\"dataframe\">\n",
       "  <thead>\n",
       "    <tr style=\"text-align: right;\">\n",
       "      <th>Medidas</th>\n",
       "      <th>I (A)</th>\n",
       "      <th>V (volts)</th>\n",
       "    </tr>\n",
       "  </thead>\n",
       "  <tbody>\n",
       "    <tr>\n",
       "      <th>1</th>\n",
       "      <td>0.1</td>\n",
       "      <td>1.0</td>\n",
       "    </tr>\n",
       "    <tr>\n",
       "      <th>2</th>\n",
       "      <td>0.2</td>\n",
       "      <td>2.0</td>\n",
       "    </tr>\n",
       "    <tr>\n",
       "      <th>3</th>\n",
       "      <td>0.3</td>\n",
       "      <td>3.0</td>\n",
       "    </tr>\n",
       "    <tr>\n",
       "      <th>4</th>\n",
       "      <td>0.4</td>\n",
       "      <td>4.0</td>\n",
       "    </tr>\n",
       "    <tr>\n",
       "      <th>5</th>\n",
       "      <td>0.5</td>\n",
       "      <td>5.0</td>\n",
       "    </tr>\n",
       "    <tr>\n",
       "      <th>6</th>\n",
       "      <td>0.6</td>\n",
       "      <td>6.0</td>\n",
       "    </tr>\n",
       "    <tr>\n",
       "      <th>7</th>\n",
       "      <td>0.7</td>\n",
       "      <td>7.0</td>\n",
       "    </tr>\n",
       "    <tr>\n",
       "      <th>8</th>\n",
       "      <td>0.8</td>\n",
       "      <td>8.0</td>\n",
       "    </tr>\n",
       "    <tr>\n",
       "      <th>9</th>\n",
       "      <td>0.9</td>\n",
       "      <td>9.0</td>\n",
       "    </tr>\n",
       "    <tr>\n",
       "      <th>10</th>\n",
       "      <td>1.0</td>\n",
       "      <td>10.0</td>\n",
       "    </tr>\n",
       "  </tbody>\n",
       "</table>\n",
       "</div>"
      ],
      "text/plain": [
       "Medidas  I (A)  V (volts)\n",
       "1          0.1        1.0\n",
       "2          0.2        2.0\n",
       "3          0.3        3.0\n",
       "4          0.4        4.0\n",
       "5          0.5        5.0\n",
       "6          0.6        6.0\n",
       "7          0.7        7.0\n",
       "8          0.8        8.0\n",
       "9          0.9        9.0\n",
       "10         1.0       10.0"
      ]
     },
     "metadata": {},
     "execution_count": 9
    }
   ],
   "metadata": {}
  },
  {
   "cell_type": "markdown",
   "source": [
    "### Grafica"
   ],
   "metadata": {}
  },
  {
   "cell_type": "code",
   "execution_count": 10,
   "source": [
    "graficar(\"I3  vs  V3\", voltaje_corriente3, color=\"#E94E6B\")"
   ],
   "outputs": [
    {
     "output_type": "display_data",
     "data": {
      "image/png": "[encoded data removed]",
      "text/plain": [
       "<Figure size 700x500 with 1 Axes>"
      ]
     },
     "metadata": {}
    }
   ],
   "metadata": {}
  },
  {
   "cell_type": "markdown",
   "source": [
    "### Resultado"
   ],
   "metadata": {}
  },
  {
   "cell_type": "code",
   "execution_count": 11,
   "source": [
    "experimental3, aceptada3 = calcular_resistencia(voltaje_corriente3)\r\n",
    "print(f\"Experimental: {experimental3}\\nAceptada: {aceptada3}\")\r\n",
    "error_porcentual(experimental3, aceptada3)"
   ],
   "outputs": [
    {
     "output_type": "stream",
     "name": "stdout",
     "text": [
      "Experimental: 9.999999\n",
      "Aceptada: 10.0\n"
     ]
    },
    {
     "output_type": "execute_result",
     "data": {
      "text/plain": [
       "'0.00001000%'"
      ]
     },
     "metadata": {},
     "execution_count": 11
    }
   ],
   "metadata": {}
  },
  {
   "cell_type": "markdown",
   "source": [
    "## Experiencia #4\r\n",
    "\r\n",
    "Datos de voltaje vs corriente de un circuito simple de una fuente de poder y dos resistencias en paralelo."
   ],
   "metadata": {}
  },
  {
   "cell_type": "code",
   "execution_count": 12,
   "source": [
    "configuracion4 = ConfiguracionRegistro(voltaje_inicial=4.0, escala=4.0)\r\n",
    "\r\n",
    "resistencia1 = 20.0 # ohms\r\n",
    "resistencia2 = 10.0 # ohms\r\n",
    "voltaje_corriente4 = registrar_corrientes([0.60, 1.20, 1.80, 2.40, 3.00, 3.60, 4.20, 4.80, 5.40, 6.00], configuracion4)\r\n",
    "voltaje_corriente4"
   ],
   "outputs": [
    {
     "output_type": "execute_result",
     "data": {
      "text/html": [
       "<div>\n",
       "<style scoped>\n",
       "    .dataframe tbody tr th:only-of-type {\n",
       "        vertical-align: middle;\n",
       "    }\n",
       "\n",
       "    .dataframe tbody tr th {\n",
       "        vertical-align: top;\n",
       "    }\n",
       "\n",
       "    .dataframe thead th {\n",
       "        text-align: right;\n",
       "    }\n",
       "</style>\n",
       "<table border=\"1\" class=\"dataframe\">\n",
       "  <thead>\n",
       "    <tr style=\"text-align: right;\">\n",
       "      <th>Medidas</th>\n",
       "      <th>I (A)</th>\n",
       "      <th>V (volts)</th>\n",
       "    </tr>\n",
       "  </thead>\n",
       "  <tbody>\n",
       "    <tr>\n",
       "      <th>1</th>\n",
       "      <td>0.6</td>\n",
       "      <td>4.0</td>\n",
       "    </tr>\n",
       "    <tr>\n",
       "      <th>2</th>\n",
       "      <td>1.2</td>\n",
       "      <td>8.0</td>\n",
       "    </tr>\n",
       "    <tr>\n",
       "      <th>3</th>\n",
       "      <td>1.8</td>\n",
       "      <td>12.0</td>\n",
       "    </tr>\n",
       "    <tr>\n",
       "      <th>4</th>\n",
       "      <td>2.4</td>\n",
       "      <td>16.0</td>\n",
       "    </tr>\n",
       "    <tr>\n",
       "      <th>5</th>\n",
       "      <td>3.0</td>\n",
       "      <td>20.0</td>\n",
       "    </tr>\n",
       "    <tr>\n",
       "      <th>6</th>\n",
       "      <td>3.6</td>\n",
       "      <td>24.0</td>\n",
       "    </tr>\n",
       "    <tr>\n",
       "      <th>7</th>\n",
       "      <td>4.2</td>\n",
       "      <td>28.0</td>\n",
       "    </tr>\n",
       "    <tr>\n",
       "      <th>8</th>\n",
       "      <td>4.8</td>\n",
       "      <td>32.0</td>\n",
       "    </tr>\n",
       "    <tr>\n",
       "      <th>9</th>\n",
       "      <td>5.4</td>\n",
       "      <td>36.0</td>\n",
       "    </tr>\n",
       "    <tr>\n",
       "      <th>10</th>\n",
       "      <td>6.0</td>\n",
       "      <td>40.0</td>\n",
       "    </tr>\n",
       "  </tbody>\n",
       "</table>\n",
       "</div>"
      ],
      "text/plain": [
       "Medidas  I (A)  V (volts)\n",
       "1          0.6        4.0\n",
       "2          1.2        8.0\n",
       "3          1.8       12.0\n",
       "4          2.4       16.0\n",
       "5          3.0       20.0\n",
       "6          3.6       24.0\n",
       "7          4.2       28.0\n",
       "8          4.8       32.0\n",
       "9          5.4       36.0\n",
       "10         6.0       40.0"
      ]
     },
     "metadata": {},
     "execution_count": 12
    }
   ],
   "metadata": {}
  },
  {
   "cell_type": "markdown",
   "source": [
    "### Grafica"
   ],
   "metadata": {}
  },
  {
   "cell_type": "code",
   "execution_count": 13,
   "source": [
    "graficar(\"I4  vs  V4\", voltaje_corriente4, color=\"#5738FF\")"
   ],
   "outputs": [
    {
     "output_type": "display_data",
     "data": {
      "image/png": "[encoded data removed]",
      "text/plain": [
       "<Figure size 700x500 with 1 Axes>"
      ]
     },
     "metadata": {}
    }
   ],
   "metadata": {}
  },
  {
   "cell_type": "markdown",
   "source": [
    "### Resultado"
   ],
   "metadata": {}
  },
  {
   "cell_type": "code",
   "execution_count": 14,
   "source": [
    "experimental4, aceptada4 = calcular_resistencia(voltaje_corriente4)\r\n",
    "print(f\"Experimental: {experimental4}\\nAceptada: {aceptada4}\")\r\n",
    "error_porcentual(experimental4, aceptada4)"
   ],
   "outputs": [
    {
     "output_type": "stream",
     "name": "stdout",
     "text": [
      "Experimental: 6.666666\n",
      "Aceptada: 6.666666666666667\n"
     ]
    },
    {
     "output_type": "execute_result",
     "data": {
      "text/plain": [
       "'0.00001000%'"
      ]
     },
     "metadata": {},
     "execution_count": 14
    }
   ],
   "metadata": {}
  },
  {
   "cell_type": "markdown",
   "source": [
    "## Experiencia #5\r\n",
    "\r\n",
    "Datos de voltaje vs corriente de un circuito simple de una fuente de poder y una resistencia equivalente a dos resistencias paralelas."
   ],
   "metadata": {}
  },
  {
   "cell_type": "code",
   "execution_count": 20,
   "source": [
    "configuracion5 = ConfiguracionRegistro(voltaje_inicial=4.0, escala=8.0)\r\n",
    "\r\n",
    "resistencia_eq = 6.6 # ohms\r\n",
    "voltaje_corriente5 = registrar_corrientes([0.37, 1.10, 1.83, 2.56, 3.29, 4.02, 4.75, 5.49, 6.22, 6.95], configuracion5)\r\n",
    "voltaje_corriente5"
   ],
   "outputs": [
    {
     "output_type": "execute_result",
     "data": {
      "text/html": [
       "<div>\n",
       "<style scoped>\n",
       "    .dataframe tbody tr th:only-of-type {\n",
       "        vertical-align: middle;\n",
       "    }\n",
       "\n",
       "    .dataframe tbody tr th {\n",
       "        vertical-align: top;\n",
       "    }\n",
       "\n",
       "    .dataframe thead th {\n",
       "        text-align: right;\n",
       "    }\n",
       "</style>\n",
       "<table border=\"1\" class=\"dataframe\">\n",
       "  <thead>\n",
       "    <tr style=\"text-align: right;\">\n",
       "      <th>Medidas</th>\n",
       "      <th>I (A)</th>\n",
       "      <th>V (volts)</th>\n",
       "    </tr>\n",
       "  </thead>\n",
       "  <tbody>\n",
       "    <tr>\n",
       "      <th>1</th>\n",
       "      <td>0.37</td>\n",
       "      <td>4.0</td>\n",
       "    </tr>\n",
       "    <tr>\n",
       "      <th>2</th>\n",
       "      <td>1.10</td>\n",
       "      <td>12.0</td>\n",
       "    </tr>\n",
       "    <tr>\n",
       "      <th>3</th>\n",
       "      <td>1.83</td>\n",
       "      <td>20.0</td>\n",
       "    </tr>\n",
       "    <tr>\n",
       "      <th>4</th>\n",
       "      <td>2.56</td>\n",
       "      <td>28.0</td>\n",
       "    </tr>\n",
       "    <tr>\n",
       "      <th>5</th>\n",
       "      <td>3.29</td>\n",
       "      <td>36.0</td>\n",
       "    </tr>\n",
       "    <tr>\n",
       "      <th>6</th>\n",
       "      <td>4.02</td>\n",
       "      <td>44.0</td>\n",
       "    </tr>\n",
       "    <tr>\n",
       "      <th>7</th>\n",
       "      <td>4.75</td>\n",
       "      <td>52.0</td>\n",
       "    </tr>\n",
       "    <tr>\n",
       "      <th>8</th>\n",
       "      <td>5.49</td>\n",
       "      <td>60.0</td>\n",
       "    </tr>\n",
       "    <tr>\n",
       "      <th>9</th>\n",
       "      <td>6.22</td>\n",
       "      <td>68.0</td>\n",
       "    </tr>\n",
       "    <tr>\n",
       "      <th>10</th>\n",
       "      <td>6.95</td>\n",
       "      <td>76.0</td>\n",
       "    </tr>\n",
       "  </tbody>\n",
       "</table>\n",
       "</div>"
      ],
      "text/plain": [
       "Medidas  I (A)  V (volts)\n",
       "1         0.37        4.0\n",
       "2         1.10       12.0\n",
       "3         1.83       20.0\n",
       "4         2.56       28.0\n",
       "5         3.29       36.0\n",
       "6         4.02       44.0\n",
       "7         4.75       52.0\n",
       "8         5.49       60.0\n",
       "9         6.22       68.0\n",
       "10        6.95       76.0"
      ]
     },
     "metadata": {},
     "execution_count": 20
    }
   ],
   "metadata": {}
  },
  {
   "cell_type": "markdown",
   "source": [
    "### Grafica"
   ],
   "metadata": {}
  },
  {
   "cell_type": "code",
   "execution_count": 22,
   "source": [
    "graficar(\"I5  vs  V5\", voltaje_corriente5, color=\"#5738FF\")"
   ],
   "outputs": [
    {
     "output_type": "display_data",
     "data": {
      "image/png": "[encoded data removed]",
      "text/plain": [
       "<Figure size 700x500 with 1 Axes>"
      ]
     },
     "metadata": {}
    }
   ],
   "metadata": {}
  },
  {
   "cell_type": "markdown",
   "source": [
    "### Resultado"
   ],
   "metadata": {}
  },
  {
   "cell_type": "code",
   "execution_count": 25,
   "source": [
    "experimental5, aceptada5 = calcular_resistencia(voltaje_corriente5)\r\n",
    "print(f\"Experimental: {experimental5}\\nAceptada: {aceptada5}\")\r\n",
    "error_porcentual(experimental5, aceptada5)"
   ],
   "outputs": [
    {
     "output_type": "stream",
     "name": "stdout",
     "text": [
      "Experimental: 10.939811\n",
      "Aceptada: 10.93525179856115\n"
     ]
    },
    {
     "output_type": "execute_result",
     "data": {
      "text/plain": [
       "'0.04167532%'"
      ]
     },
     "metadata": {},
     "execution_count": 25
    }
   ],
   "metadata": {}
  },
  {
   "cell_type": "markdown",
   "source": [
    "## Resultados\r\n",
    "\r\n",
    "Registro de los errores experimentales, respecto a los aceptados"
   ],
   "metadata": {}
  },
  {
   "cell_type": "code",
   "execution_count": 26,
   "source": [
    "from utils import resultado_experimentacion\r\n",
    "\r\n",
    "resultado_experimentacion(voltaje_corriente1, voltaje_corriente2, voltaje_corriente3, voltaje_corriente4, voltaje_corriente5)"
   ],
   "outputs": [
    {
     "output_type": "execute_result",
     "data": {
      "text/html": [
       "<div>\n",
       "<style scoped>\n",
       "    .dataframe tbody tr th:only-of-type {\n",
       "        vertical-align: middle;\n",
       "    }\n",
       "\n",
       "    .dataframe tbody tr th {\n",
       "        vertical-align: top;\n",
       "    }\n",
       "\n",
       "    .dataframe thead th {\n",
       "        text-align: right;\n",
       "    }\n",
       "</style>\n",
       "<table border=\"1\" class=\"dataframe\">\n",
       "  <thead>\n",
       "    <tr style=\"text-align: right;\">\n",
       "      <th></th>\n",
       "      <th>Resistencia</th>\n",
       "      <th>Experimental</th>\n",
       "      <th>Teórico</th>\n",
       "      <th>Error Porcentual</th>\n",
       "    </tr>\n",
       "  </thead>\n",
       "  <tbody>\n",
       "    <tr>\n",
       "      <th>0</th>\n",
       "      <td>R1</td>\n",
       "      <td>5.580591</td>\n",
       "      <td>5.576208</td>\n",
       "      <td>0.07859860%</td>\n",
       "    </tr>\n",
       "    <tr>\n",
       "      <th>1</th>\n",
       "      <td>R2</td>\n",
       "      <td>4.999999</td>\n",
       "      <td>5.000000</td>\n",
       "      <td>0.00002000%</td>\n",
       "    </tr>\n",
       "    <tr>\n",
       "      <th>2</th>\n",
       "      <td>R3</td>\n",
       "      <td>9.999999</td>\n",
       "      <td>10.000000</td>\n",
       "      <td>0.00001000%</td>\n",
       "    </tr>\n",
       "    <tr>\n",
       "      <th>3</th>\n",
       "      <td>R4</td>\n",
       "      <td>6.666666</td>\n",
       "      <td>6.666667</td>\n",
       "      <td>0.00001000%</td>\n",
       "    </tr>\n",
       "    <tr>\n",
       "      <th>4</th>\n",
       "      <td>R5</td>\n",
       "      <td>10.939811</td>\n",
       "      <td>10.935252</td>\n",
       "      <td>0.04169270%</td>\n",
       "    </tr>\n",
       "  </tbody>\n",
       "</table>\n",
       "</div>"
      ],
      "text/plain": [
       "  Resistencia  Experimental    Teórico Error Porcentual\n",
       "0          R1      5.580591   5.576208      0.07859860%\n",
       "1          R2      4.999999   5.000000      0.00002000%\n",
       "2          R3      9.999999  10.000000      0.00001000%\n",
       "3          R4      6.666666   6.666667      0.00001000%\n",
       "4          R5     10.939811  10.935252      0.04169270%"
      ]
     },
     "metadata": {},
     "execution_count": 26
    }
   ],
   "metadata": {}
  }
 ],
 "metadata": {
  "orig_nbformat": 4,
  "language_info": {
   "name": "python",
   "version": "3.9.6",
   "mimetype": "text/x-python",
   "codemirror_mode": {
    "name": "ipython",
    "version": 3
   },
   "pygments_lexer": "ipython3",
   "nbconvert_exporter": "python",
   "file_extension": ".py"
  },
  "kernelspec": {
   "name": "python3",
   "display_name": "Python 3.9.6 64-bit"
  },
  "interpreter": {
   "hash": "54f473eb0257c08decd1f78f9882b56b9a20e6410c7d8533ca2fd9ce09773f65"
  }
 },
 "nbformat": 4,
 "nbformat_minor": 2
}