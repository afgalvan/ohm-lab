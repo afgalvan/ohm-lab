{
 "cells": [
  {
   "cell_type": "markdown",
   "source": [
    "<h1 align=\"center\">\r\n",
    "    PRACTICA EXPERIMENTAL #1\r\n",
    "    </br>\r\n",
    "    LEY DE COULOMB\r\n",
    "</h1>\r\n",
    "\r\n",
    "| IDENTIFICACIÓN | |\r\n",
    "| :- | :- |\r\n",
    "| Nombre de la asignatura | Electromagnetismo |\r\n",
    "| Programa Académico | Ingeniería de Sistemas |\r\n",
    "| Docente | Dr. Carlos Eduardo Martinez Nuñez |\r\n",
    "| Nombre del Estudiante | Andrés Felipe Galván |\r\n",
    "\r\n",
    "---\r\n",
    "\r\n",
    "## OBJETIVO GENERAL\r\n",
    "\r\n",
    "Comprobar la ley de Ohm para un circuito simple (fuente de voltaje y resistencia) y para circuitos con resistencias en serie y en paralelo.\r\n",
    "\r\n",
    "---\r\n",
    "\r\n",
    "## OBJETIVOS ESPECÍFICOS\r\n",
    "\r\n",
    "- Familiarizarse con elementos electrónicos sencillos.\r\n",
    "- Desarrollar habilidades en la construcción decircuitos sencillos.\r\n",
    "- Identificar la forma estándar para dibujar esquemas electrónicos.\r\n",
    "- Identificar los diferentes tipos de configuraciones de circuitos.\r\n",
    "- Comprobar la ley de Ohm."
   ],
   "metadata": {}
  },
  {
   "cell_type": "markdown",
   "source": [
    "# Procedimiento"
   ],
   "metadata": {}
  },
  {
   "cell_type": "markdown",
   "source": [
    "## Instalar dependencias"
   ],
   "metadata": {}
  },
  {
   "cell_type": "code",
   "execution_count": null,
   "source": [
    "from sys import executable\r\n",
    "\r\n",
    "!{executable} -m pip install pandas\r\n",
    "!{executable} -m pip install matplotlib\r\n",
    "!{executable} -m pip install openpyxl\r\n",
    "!{executable} -m pip install numpy"
   ],
   "outputs": [],
   "metadata": {}
  },
  {
   "cell_type": "markdown",
   "source": [
    "## Configuración"
   ],
   "metadata": {}
  },
  {
   "cell_type": "code",
   "execution_count": null,
   "source": [
    "from pandas import set_option\r\n",
    "from matplotlib.pyplot import style\r\n",
    "\r\n",
    "style.use(\"seaborn-whitegrid\")\r\n",
    "set_option(\"display.float_format\", \"{:.2e}\".format) # Usar notación cientifica"
   ],
   "outputs": [],
   "metadata": {}
  }
 ],
 "metadata": {
  "orig_nbformat": 4,
  "language_info": {
   "name": "python"
  }
 },
 "nbformat": 4,
 "nbformat_minor": 2
}